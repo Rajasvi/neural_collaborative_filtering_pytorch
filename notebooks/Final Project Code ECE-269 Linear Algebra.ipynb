{
 "cells": [
  {
   "cell_type": "code",
   "execution_count": 1,
   "id": "8b994ab9",
   "metadata": {},
   "outputs": [
    {
     "name": "stdout",
     "output_type": "stream",
     "text": [
      "Using cpu device\n"
     ]
    }
   ],
   "source": [
    "import torch\n",
    "import pandas as pd\n",
    "from torch.utils.data import DataLoader\n",
    "import plotly.express as px\n",
    "from tqdm import tqdm\n",
    "import numpy as np\n",
    "from torch.utils.data import Dataset\n",
    "from torch import nn\n",
    "import heapq\n",
    "import math\n",
    "import plotly.express as px\n",
    "from plotly.subplots import make_subplots\n",
    "import plotly.graph_objects as go\n",
    "import multiprocessing\n",
    "import plotly.io as pio\n",
    "\n",
    "pio.renderers.default = \"notebook+pdf\"\n",
    "\n",
    "device = \"cuda\" if torch.cuda.is_available() else \"cpu\"\n",
    "print(f\"Using {device} device\")"
   ]
  },
  {
   "cell_type": "code",
   "execution_count": 28,
   "id": "36931832",
   "metadata": {},
   "outputs": [],
   "source": [
    "learning_rate = 0.01\n",
    "factors = [8,16,32,64]\n",
    "epochs = 1\n",
    "batch_size = 1024\n",
    "\n",
    "all_out=[]"
   ]
  },
  {
   "cell_type": "code",
   "execution_count": 5,
   "id": "9b8ee80d",
   "metadata": {},
   "outputs": [],
   "source": [
    "# Negative Testing Samples oversampled using neg_num\n",
    "neg_num = 99\n",
    "neg_samples = {}"
   ]
  },
  {
   "cell_type": "markdown",
   "id": "d6b09c51",
   "metadata": {},
   "source": [
    "# Pre-Processing"
   ]
  },
  {
   "cell_type": "code",
   "execution_count": 6,
   "id": "bf74b650",
   "metadata": {},
   "outputs": [
    {
     "name": "stderr",
     "output_type": "stream",
     "text": [
      "/opt/conda/lib/python3.9/site-packages/pandas/util/_decorators.py:311: ParserWarning: Falling back to the 'python' engine because the 'c' engine does not support regex separators (separators > 1 char and different from '\\s+' are interpreted as regex); you can avoid this warning by specifying engine='python'.\n",
      "  return func(*args, **kwargs)\n"
     ]
    }
   ],
   "source": [
    "df = pd.read_csv('ratings.dat',sep=\"::\",names = [\"users\",\"items\",\"rating\",\"timestamp\"])\n",
    "n = len(df)"
   ]
  },
  {
   "cell_type": "code",
   "execution_count": 7,
   "id": "0bf32897",
   "metadata": {},
   "outputs": [],
   "source": [
    "df['rank_latest'] = df.groupby(['users'])['timestamp'].rank(method='first', ascending=False)"
   ]
  },
  {
   "cell_type": "code",
   "execution_count": 8,
   "id": "fc2958b1",
   "metadata": {},
   "outputs": [],
   "source": [
    "df['rating']=1\n",
    "train_df, test_df = df[df['rank_latest']>1],df[df['rank_latest']==1]"
   ]
  },
  {
   "cell_type": "code",
   "execution_count": 9,
   "id": "30efe6ec",
   "metadata": {},
   "outputs": [],
   "source": [
    "# Final training samples with negatives \n",
    "neg_per_pos = 4    # Negative interactions to be sampled per positive interaction\n",
    "users_all = df['users'].unique()\n",
    "items_all = set(df['items'].unique())"
   ]
  },
  {
   "cell_type": "code",
   "execution_count": 10,
   "id": "1f95c395",
   "metadata": {},
   "outputs": [],
   "source": [
    "def prep_data(df,users_all,items_all,neg_train=100):\n",
    "    users_fin = df['users'].values.copy() \n",
    "    items_fin = df['items'].values.copy()\n",
    "    ratings_fin = df['rating'].values.copy().astype(float)\n",
    "\n",
    "    for u in tqdm(users_all):\n",
    "        items_per_user = set(df[df.users==u]['items'].unique()) \n",
    "\n",
    "        neg_item = np.random.choice(list(items_all-items_per_user),len(items_per_user)*neg_per_pos)   \n",
    "\n",
    "        users_fin=np.append(users_fin,np.repeat(u,len(items_per_user)*neg_per_pos))\n",
    "        items_fin=np.append(items_fin,neg_item)\n",
    "        ratings_fin=np.append(ratings_fin,np.repeat(0,len(items_per_user)*neg_per_pos))\n",
    "\n",
    "    return [users_fin, items_fin, ratings_fin]"
   ]
  },
  {
   "cell_type": "code",
   "execution_count": 11,
   "id": "aed63b51",
   "metadata": {},
   "outputs": [],
   "source": [
    "class MovieUserItemRatingDataset(Dataset):\n",
    "    def __init__(self, users,items,ratings):\n",
    "        self.users = torch.from_numpy(users)\n",
    "        self.items = torch.from_numpy(items)\n",
    "        self.ratings = torch.from_numpy(ratings)\n",
    "        \n",
    "    def __getitem__(self,index):\n",
    "        return [self.users[index],self.items[index],self.ratings[index].float()]\n",
    "\n",
    "    def __len__(self):\n",
    "        return len(self.users)  "
   ]
  },
  {
   "cell_type": "code",
   "execution_count": 12,
   "id": "b4680fc1",
   "metadata": {},
   "outputs": [
    {
     "name": "stderr",
     "output_type": "stream",
     "text": [
      "100%|██████████| 6040/6040 [03:04<00:00, 32.76it/s] "
     ]
    },
    {
     "name": "stdout",
     "output_type": "stream",
     "text": [
      "CPU times: user 1min 46s, sys: 1min 18s, total: 3min 5s\n",
      "Wall time: 3min 4s\n"
     ]
    },
    {
     "name": "stderr",
     "output_type": "stream",
     "text": [
      "\n"
     ]
    }
   ],
   "source": [
    "%%time\n",
    "train_users, train_items, train_ratings = prep_data(train_df,users_all,items_all,neg_per_pos)\n",
    "training_data = MovieUserItemRatingDataset(train_users,train_items,train_ratings)\n",
    "train_dataloader = DataLoader(training_data, batch_size=batch_size, shuffle=True,num_workers= 32, pin_memory=True)"
   ]
  },
  {
   "cell_type": "code",
   "execution_count": 13,
   "id": "4738b063",
   "metadata": {},
   "outputs": [],
   "source": [
    "n_users = df['users'].nunique()+1\n",
    "n_items = np.max(train_df['items'])+1"
   ]
  },
  {
   "cell_type": "markdown",
   "id": "0870bb9f",
   "metadata": {},
   "source": [
    "# Training Utils"
   ]
  },
  {
   "cell_type": "code",
   "execution_count": 16,
   "id": "8c17744e",
   "metadata": {},
   "outputs": [],
   "source": [
    "\n",
    "def train(dataloader, model, loss_fn, optimizer):\n",
    "    size = len(dataloader.dataset)\n",
    "    model.train()\n",
    "    tot_loss = []\n",
    "    for batch, (X_users, X_items, y) in enumerate(dataloader):\n",
    "        X_users, X_items, y = X_users.to(device), X_items.to(device), y.to(device)\n",
    "\n",
    "        # Compute prediction error\n",
    "        pred = model(X_users,X_items)\n",
    "        loss = loss_fn(pred, y)\n",
    "\n",
    "        # Backpropagation\n",
    "        optimizer.zero_grad()\n",
    "        loss.backward()\n",
    "        optimizer.step()\n",
    "\n",
    "        if batch % 1000 == 0:\n",
    "            loss, current = loss.item(), batch * len(X_users)\n",
    "            tot_loss.append(loss)\n",
    "            print(f\"loss: {loss:>7f}  [{current:>5d}/{size:>5d}]\")\n",
    "        \n",
    "    print(f\"Mean Training Loss: {np.mean(tot_loss)} \")        \n",
    "    return np.mean(tot_loss)"
   ]
  },
  {
   "cell_type": "code",
   "execution_count": 17,
   "id": "4ab46074",
   "metadata": {},
   "outputs": [],
   "source": [
    "\n",
    "def evaluate_test(test_df, model, k=10, neg_num=100):\n",
    "    users_test_all = test_df['users'].unique()\n",
    "    ndcg,hit,total = 0, 0, len(users_test_all)\n",
    "    tot_loss=[]\n",
    "    \n",
    "    for i in range(len(test_df)):\n",
    "        user,item = test_df.iloc[i]['users'],test_df.iloc[i]['items']\n",
    "        if user not in neg_samples:     \n",
    "            neg_item = np.random.choice(list(items_all-set([int(item)])),neg_num)   \n",
    "            neg_samples[user]=neg_item\n",
    "\n",
    "        users_test=torch.LongTensor(np.repeat(user,neg_num+1)).to(device)\n",
    "        items_test=torch.LongTensor(np.append(item,neg_samples[user])).to(device)\n",
    "        ratings_test = torch.FloatTensor(np.append(1,np.repeat(0,neg_num))).to(device)\n",
    "        \n",
    "        model.eval()\n",
    "        with torch.no_grad():\n",
    "            pred = model(users_test,items_test)\n",
    "            loss = loss_fn(pred, ratings_test)\n",
    "            tot_loss.append(loss.item())\n",
    "\n",
    "        hp = []\n",
    "        for curr_item,curr_rating in zip(items_test.cpu().numpy(),pred.cpu().numpy()):\n",
    "            heapq.heappush(hp,(curr_rating,curr_item))\n",
    "\n",
    "        topK = heapq.nlargest(k,hp,key=lambda x: x[0])\n",
    "        topKitems = set([x[1] for x in topK])\n",
    "        if item in topKitems:\n",
    "            hit+=1\n",
    "\n",
    "        for j,itemi in enumerate(topKitems):\n",
    "            if itemi==item:\n",
    "                ndcg+= math.log(2)/math.log(j+2)\n",
    "\n",
    "    print(f\"Mean Test Loss: {np.mean(tot_loss)}\")\n",
    "    print(f\"\\n Hit Ratio | HR@{k} : {hit/total}\")\n",
    "    print(f\" NDCG@{k} : {ndcg/total}\")    \n",
    "    \n",
    "\n",
    "    return [hit/total , ndcg/total, np.mean(tot_loss)]"
   ]
  },
  {
   "cell_type": "markdown",
   "id": "95261f72",
   "metadata": {},
   "source": [
    "# GMF"
   ]
  },
  {
   "cell_type": "code",
   "execution_count": 18,
   "id": "8c742a19",
   "metadata": {},
   "outputs": [],
   "source": [
    "class GMF(nn.Module):\n",
    "    def __init__(self, n_users, n_items, n_factors=20, MF = False):\n",
    "        super().__init__()\n",
    "        # create user embeddings\n",
    "        self.user_embeddings_GMF = torch.nn.Embedding(n_users, n_factors,\n",
    "                                                sparse=False)\n",
    "        # create item embeddings\n",
    "        self.item_embeddings_GMF = torch.nn.Embedding(n_items, n_factors,\n",
    "                                                sparse=False)\n",
    "        self.h_output = torch.nn.Linear(in_features=n_factors,out_features=1)\n",
    "        self.activation = torch.nn.Sigmoid()\n",
    "        self.MF = MF\n",
    "\n",
    "    def forward(self, user, item):\n",
    "        # element-wise multiplication\n",
    "        x = self.user_embeddings_GMF(user)*self.item_embeddings_GMF(item)\n",
    "\n",
    "        if self.MF:\n",
    "            return self.activation(x.sum(1))\n",
    "\n",
    "        x = self.h_output(x)\n",
    "        x = self.activation(x)\n",
    "\n",
    "        return torch.squeeze(x)"
   ]
  },
  {
   "cell_type": "code",
   "execution_count": null,
   "id": "4042a3a5",
   "metadata": {
    "scrolled": true
   },
   "outputs": [],
   "source": [
    "# Training model for different factors.\n",
    "\n",
    "for f in factors:\n",
    "    gmf = GMF(n_users = n_users, n_items = n_items, n_factors = f).to(device)\n",
    "    loss_fn = nn.BCELoss()\n",
    "    optimizer = torch.optim.Adam(gmf.parameters(), lr=learning_rate)\n",
    "    \n",
    "    for t in range(epochs):\n",
    "        print(f\"Epoch {t+1}\\n-------------------------------\")\n",
    "        loss = train(train_dataloader, gmf, loss_fn, optimizer)\n",
    "        hr, ndcg, test_loss = evaluate_test(test_df, gmf, k=10,neg_num=neg_num)\n",
    "        all_out.append([\"GMF\",t,f,loss,test_loss,hr,ndcg])\n",
    "        print(\"-------------------------------\")\n",
    "        \n",
    "    torch.save(gmf.state_dict(), f\"{f}_GMF.pt\")\n",
    "    print(f\"Factor {f} | HR@10: {hr} | NDCG@10: {ndcg}\")\n",
    "    \n"
   ]
  },
  {
   "cell_type": "markdown",
   "id": "264d696d",
   "metadata": {},
   "source": [
    "# MLP"
   ]
  },
  {
   "cell_type": "code",
   "execution_count": 25,
   "id": "04d6eb63",
   "metadata": {},
   "outputs": [],
   "source": [
    "class MLP(nn.Module):\n",
    "    def __init__(self, n_users, n_items, n_factors=20):\n",
    "        super().__init__()\n",
    "        # create user embeddings\n",
    "        self.user_embeddings_MLP = torch.nn.Embedding(n_users, 2*n_factors,\n",
    "                                                sparse=False)\n",
    "        # create item embeddings\n",
    "        self.item_embeddings_MLP = torch.nn.Embedding(n_items, 2*n_factors,\n",
    "                                                sparse=False)\n",
    "        \n",
    "        # Neural CF layers\n",
    "        self.MLP = nn.Sequential(\n",
    "            nn.Linear(4*n_factors,2*n_factors),\n",
    "            nn.ReLU(),\n",
    "            nn.Linear(2*n_factors,n_factors),\n",
    "            nn.ReLU(),\n",
    "            nn.Linear(n_factors,1),\n",
    "            nn.Sigmoid(),   \n",
    "        )\n",
    "\n",
    "    def forward(self, user, item):\n",
    "        # concat user + item embeddings\n",
    "        x = torch.cat((self.user_embeddings_MLP(user),self.item_embeddings_MLP(item)),1)\n",
    "        x = self.MLP(x)\n",
    "\n",
    "        return torch.squeeze(x)"
   ]
  },
  {
   "cell_type": "code",
   "execution_count": null,
   "id": "6ef46fd2",
   "metadata": {},
   "outputs": [],
   "source": [
    "# Training model for different factors.\n",
    "\n",
    "for f in factors:\n",
    "    mlp = MLP(n_users = n_users, n_items = n_items, n_factors = f).to(device)\n",
    "    loss_fn = nn.BCELoss()\n",
    "    optimizer = torch.optim.Adam(mlp.parameters(), lr=learning_rate)\n",
    "    \n",
    "    losses_mlp,hrs_mlp,ndcgs_mlp = [],[],[]\n",
    "    \n",
    "    for t in range(epochs):\n",
    "        print(f\"Epoch {t+1}\\n-------------------------------\")\n",
    "        loss = train(train_dataloader, mlp, loss_fn, optimizer)\n",
    "        hr, ndcg,test_loss = evaluate_test(test_df, mlp, k=10,neg_num=neg_num)\n",
    "        all_out.append([\"MLP\",t,f,loss,test_loss,hr,ndcg])\n",
    "        print(\"-------------------------------\")\n",
    "    \n",
    "    torch.save(mlp.state_dict(),f\"{f}_MLP.pt\")    \n",
    "    print(f\"Factor {f} | HR@10: {hr} | NDCG@10: {ndcg}\")"
   ]
  },
  {
   "cell_type": "markdown",
   "id": "1401e9e3",
   "metadata": {},
   "source": [
    "# NeuMF"
   ]
  },
  {
   "cell_type": "code",
   "execution_count": 32,
   "id": "688733b0",
   "metadata": {},
   "outputs": [],
   "source": [
    "class NeuMF(nn.Module):\n",
    "    def __init__(self, n_users, n_items, n_factors=20,alpha=0.5):\n",
    "        super().__init__()\n",
    "        # MLP: create user embeddings\n",
    "        self.user_embeddings_MLP = torch.nn.Embedding(n_users, 2*n_factors,\n",
    "                                                sparse=False)\n",
    "        # MLP: create item embeddings\n",
    "        self.item_embeddings_MLP = torch.nn.Embedding(n_items, 2*n_factors,\n",
    "                                                sparse=False)\n",
    "\n",
    "        # GMF: create user embeddings\n",
    "        self.user_embeddings_GMF = torch.nn.Embedding(n_users, n_factors,\n",
    "                                                sparse=False)\n",
    "        # GMF: create item embeddings\n",
    "        self.item_embeddings_GMF = torch.nn.Embedding(n_items, n_factors,\n",
    "                                                sparse=False)\n",
    "        # Neural CF layers for MLP\n",
    "        self.MLP_mod = nn.Sequential(\n",
    "            nn.Linear(4*n_factors,2*n_factors),\n",
    "            nn.ReLU(), \n",
    "            nn.Dropout(0.75),\n",
    "            nn.Linear(2*n_factors,n_factors),\n",
    "            nn.ReLU(), \n",
    "            nn.Dropout(0.5)\n",
    "        )\n",
    "        \n",
    "        self.NMF_Linear = nn.Linear(2*n_factors,1)\n",
    "        self.activation = nn.Sigmoid()\n",
    "        self.alpha=alpha\n",
    "\n",
    "    def forward(self, user, item):\n",
    "        # concat user + item embeddings\n",
    "        mlp_x = torch.cat((self.user_embeddings_MLP(user),self.item_embeddings_MLP(item)),1)\n",
    "        mlp_x = self.MLP_mod(mlp_x)\n",
    "        \n",
    "        mf_x = self.user_embeddings_GMF(user)*self.item_embeddings_GMF(item)\n",
    "        \n",
    "        # Merge MLP and GMP (alpha: weightage of each model)\n",
    "        x = torch.cat((self.alpha*mlp_x,(1-self.alpha)*mf_x),1)\n",
    "        x = self.NMF_Linear(x)\n",
    "        x = self.activation(x)\n",
    "\n",
    "        return torch.squeeze(x)"
   ]
  },
  {
   "cell_type": "code",
   "execution_count": null,
   "id": "f053348f",
   "metadata": {
    "scrolled": true
   },
   "outputs": [],
   "source": [
    "# Training model for different factors.\n",
    "\n",
    "for f in factors:\n",
    "    learning_rate = .001\n",
    "    if f==32 or f==64:\n",
    "        learning_rate = 0.0001\n",
    "    \n",
    "    nmf = NeuMF(n_users = n_users, n_items = n_items, n_factors = f,alpha=0.5).to(device)\n",
    "    nmf.load_state_dict(torch.load(f\"{f}_GMF.pt\"),strict=False)\n",
    "    nmf.load_state_dict(torch.load(f\"{f}_MLP.pt\"),strict=False)\n",
    "    \n",
    "    loss_fn = nn.BCELoss()\n",
    "    optimizer = torch.optim.SGD(nmf.parameters(), lr=learning_rate)\n",
    "    \n",
    "    for t in range(epochs):        \n",
    "        print(f\"Epoch {t+1}\\n-------------------------------\")            \n",
    "        loss = train(train_dataloader, nmf, loss_fn, optimizer)\n",
    "        hr, ndcg,test_loss = evaluate_test(test_df, nmf, k=10,neg_num=neg_num)\n",
    "        all_out.append([\"NeuMF\",t,f,loss,test_loss,hr,ndcg])\n",
    "        \n",
    "        print(\"-------------------------------\")\n",
    "        \n",
    "    torch.save(mlp.state_dict(),f\"{f}_NMF.pt\")  \n",
    "    fin_hrs_nmf.append(hr_max)\n",
    "    fin_ndcgs_nmf.append(ndcg_max)\n",
    "    \n",
    "    print(f\"Factor {f} | HR@10: {hr} | NDCG@10: {ndcg}\")"
   ]
  },
  {
   "cell_type": "markdown",
   "id": "440965f9",
   "metadata": {},
   "source": [
    "# Evaluation"
   ]
  },
  {
   "cell_type": "code",
   "execution_count": 45,
   "id": "6e7643b0",
   "metadata": {},
   "outputs": [],
   "source": [
    "plot_df = pd.DataFrame(all_out, columns = [\"model\",\"epoch\",\"factor\",\"train_loss\",\"test_loss\",\"HR@10\",\"NDCG@10\"])"
   ]
  },
  {
   "cell_type": "code",
   "execution_count": 32,
   "id": "3173fad6",
   "metadata": {},
   "outputs": [
    {
     "data": {
      "text/html": [
       "<div>\n",
       "<style scoped>\n",
       "    .dataframe tbody tr th:only-of-type {\n",
       "        vertical-align: middle;\n",
       "    }\n",
       "\n",
       "    .dataframe tbody tr th {\n",
       "        vertical-align: top;\n",
       "    }\n",
       "\n",
       "    .dataframe thead th {\n",
       "        text-align: right;\n",
       "    }\n",
       "</style>\n",
       "<table border=\"1\" class=\"dataframe\">\n",
       "  <thead>\n",
       "    <tr style=\"text-align: right;\">\n",
       "      <th></th>\n",
       "      <th>model</th>\n",
       "      <th>epoch</th>\n",
       "      <th>factor</th>\n",
       "      <th>metric</th>\n",
       "      <th>value</th>\n",
       "    </tr>\n",
       "  </thead>\n",
       "  <tbody>\n",
       "    <tr>\n",
       "      <th>0</th>\n",
       "      <td>GMF</td>\n",
       "      <td>0</td>\n",
       "      <td>8</td>\n",
       "      <td>train_loss</td>\n",
       "      <td>0.556411</td>\n",
       "    </tr>\n",
       "    <tr>\n",
       "      <th>1</th>\n",
       "      <td>GMF</td>\n",
       "      <td>1</td>\n",
       "      <td>8</td>\n",
       "      <td>train_loss</td>\n",
       "      <td>0.358291</td>\n",
       "    </tr>\n",
       "    <tr>\n",
       "      <th>2</th>\n",
       "      <td>GMF</td>\n",
       "      <td>2</td>\n",
       "      <td>8</td>\n",
       "      <td>train_loss</td>\n",
       "      <td>0.315510</td>\n",
       "    </tr>\n",
       "    <tr>\n",
       "      <th>3</th>\n",
       "      <td>GMF</td>\n",
       "      <td>3</td>\n",
       "      <td>8</td>\n",
       "      <td>train_loss</td>\n",
       "      <td>0.294344</td>\n",
       "    </tr>\n",
       "    <tr>\n",
       "      <th>4</th>\n",
       "      <td>GMF</td>\n",
       "      <td>4</td>\n",
       "      <td>8</td>\n",
       "      <td>train_loss</td>\n",
       "      <td>0.277073</td>\n",
       "    </tr>\n",
       "  </tbody>\n",
       "</table>\n",
       "</div>"
      ],
      "text/plain": [
       "  model  epoch  factor      metric     value\n",
       "0   GMF      0       8  train_loss  0.556411\n",
       "1   GMF      1       8  train_loss  0.358291\n",
       "2   GMF      2       8  train_loss  0.315510\n",
       "3   GMF      3       8  train_loss  0.294344\n",
       "4   GMF      4       8  train_loss  0.277073"
      ]
     },
     "execution_count": 32,
     "metadata": {},
     "output_type": "execute_result"
    }
   ],
   "source": [
    "plot_melt = pd.melt(plot_df,id_vars=['model','epoch','factor'],value_vars=['train_loss','HR@10','NDCG@10'],var_name=\"metric\")\n",
    "plot_melt.head(5)"
   ]
  },
  {
   "cell_type": "code",
   "execution_count": 36,
   "id": "7813a33c",
   "metadata": {},
   "outputs": [
    {
     "data": {
      "application/pdf": "[encoded data removed]",
      "text/html": [
       "<div>                            <div id=\"0392bcf5-9562-45ea-9ada-41275de596fa\" class=\"plotly-graph-div\" style=\"height:800px; width:100%;\"></div>            <script type=\"text/javascript\">                require([\"plotly\"], function(Plotly) {                    window.PLOTLYENV=window.PLOTLYENV || {};                                    if (document.getElementById(\"0392bcf5-9562-45ea-9ada-41275de596fa\")) {                    Plotly.newPlot(                        \"0392bcf5-9562-45ea-9ada-41275de596fa\",                        [{\"hovertemplate\":\"model=GMF<br>factor=8<br>metric=train_loss<br>epoch=%{x}<br>value=%{y}<extra></extra>\",\"legendgroup\":\"GMF\",\"line\":{\"color\":\"#636efa\",\"dash\":\"solid\"},\"marker\":{\"symbol\":\"circle\"},\"mode\":\"markers+lines\",\"name\":\"GMF\",\"orientation\":\"v\",\"showlegend\":true,\"x\":[0,1,2,3,4,5,6,7,8,9],\"xaxis\":\"x10\",\"y\":[0.5564105629920959,0.3582905888557434,0.3155095756053924,0.2943436503410339,0.2770725041627884,0.2649924337863922,0.2797881186008453,0.2750280141830444,0.2798698902130127,0.2732429921627045],\"yaxis\":\"y10\",\"type\":\"scatter\"},{\"hovertemplate\":\"model=GMF<br>factor=8<br>metric=HR@10<br>epoch=%{x}<br>value=%{y}<extra></extra>\",\"legendgroup\":\"GMF\",\"line\":{\"color\":\"#636efa\",\"dash\":\"solid\"},\"marker\":{\"symbol\":\"circle\"},\"mode\":\"markers+lines\",\"name\":\"GMF\",\"orientation\":\"v\",\"showlegend\":false,\"x\":[0,1,2,3,4,5,6,7,8,9],\"xaxis\":\"x11\",\"y\":[0.3826158940397351,0.4304635761589404,0.489569536423841,0.5178807947019868,0.5332781456953642,0.5355960264900662,0.5392384105960265,0.5488410596026491,0.5461920529801324,0.5443708609271524],\"yaxis\":\"y11\",\"type\":\"scatter\"},{\"hovertemplate\":\"model=GMF<br>factor=8<br>metric=NDCG@10<br>epoch=%{x}<br>value=%{y}<extra></extra>\",\"legendgroup\":\"GMF\",\"line\":{\"color\":\"#636efa\",\"dash\":\"solid\"},\"marker\":{\"symbol\":\"circle\"},\"mode\":\"markers+lines\",\"name\":\"GMF\",\"orientation\":\"v\",\"showlegend\":false,\"x\":[0,1,2,3,4,5,6,7,8,9],\"xaxis\":\"x12\",\"y\":[0.1724250986656197,0.1975391418201074,0.2228545989066123,0.2363959011683639,0.2417703759743111,0.2422220977548683,0.2443707402504964,0.2491407285656142,0.2466969858448748,0.2457650982540388],\"yaxis\":\"y12\",\"type\":\"scatter\"},{\"hovertemplate\":\"model=GMF<br>factor=16<br>metric=train_loss<br>epoch=%{x}<br>value=%{y}<extra></extra>\",\"legendgroup\":\"GMF\",\"line\":{\"color\":\"#636efa\",\"dash\":\"solid\"},\"marker\":{\"symbol\":\"circle\"},\"mode\":\"markers+lines\",\"name\":\"GMF\",\"orientation\":\"v\",\"showlegend\":false,\"x\":[0,1,2,3,4,5,6,7,8,9],\"xaxis\":\"x7\",\"y\":[0.4964788436889648,0.3490620017051696,0.3206570148468017,0.2884013295173645,0.2660535395145416,0.2494783699512481,0.2456393808126449,0.2446450740098953,0.2601539015769958,0.2516592860221863],\"yaxis\":\"y7\",\"type\":\"scatter\"},{\"hovertemplate\":\"model=GMF<br>factor=16<br>metric=HR@10<br>epoch=%{x}<br>value=%{y}<extra></extra>\",\"legendgroup\":\"GMF\",\"line\":{\"color\":\"#636efa\",\"dash\":\"solid\"},\"marker\":{\"symbol\":\"circle\"},\"mode\":\"markers+lines\",\"name\":\"GMF\",\"orientation\":\"v\",\"showlegend\":false,\"x\":[0,1,2,3,4,5,6,7,8,9],\"xaxis\":\"x8\",\"y\":[0.395364238410596,0.4471854304635762,0.4872516556291391,0.5294701986754967,0.5451986754966888,0.5572847682119205,0.5591059602649007,0.5665562913907285,0.5710264900662252,0.5736754966887417],\"yaxis\":\"y8\",\"type\":\"scatter\"},{\"hovertemplate\":\"model=GMF<br>factor=16<br>metric=NDCG@10<br>epoch=%{x}<br>value=%{y}<extra></extra>\",\"legendgroup\":\"GMF\",\"line\":{\"color\":\"#636efa\",\"dash\":\"solid\"},\"marker\":{\"symbol\":\"circle\"},\"mode\":\"markers+lines\",\"name\":\"GMF\",\"orientation\":\"v\",\"showlegend\":false,\"x\":[0,1,2,3,4,5,6,7,8,9],\"xaxis\":\"x9\",\"y\":[0.1791304805533119,0.2038086802884603,0.222332722518239,0.2415003581118602,0.2492217337351316,0.2544536891026329,0.2536263054742639,0.2592625799218167,0.2586056738966308,0.261013896622416],\"yaxis\":\"y9\",\"type\":\"scatter\"},{\"hovertemplate\":\"model=GMF<br>factor=32<br>metric=train_loss<br>epoch=%{x}<br>value=%{y}<extra></extra>\",\"legendgroup\":\"GMF\",\"line\":{\"color\":\"#636efa\",\"dash\":\"solid\"},\"marker\":{\"symbol\":\"circle\"},\"mode\":\"markers+lines\",\"name\":\"GMF\",\"orientation\":\"v\",\"showlegend\":false,\"x\":[0,1,2,3,4,5,6,7,8,9],\"xaxis\":\"x4\",\"y\":[0.4848561942577362,0.3312166690826416,0.2759187281131744,0.2609577476978302,0.2549506962299347,0.2298477441072464,0.2300815433263778,0.2301868706941604,0.2353801667690277,0.2185678958892822],\"yaxis\":\"y4\",\"type\":\"scatter\"},{\"hovertemplate\":\"model=GMF<br>factor=32<br>metric=HR@10<br>epoch=%{x}<br>value=%{y}<extra></extra>\",\"legendgroup\":\"GMF\",\"line\":{\"color\":\"#636efa\",\"dash\":\"solid\"},\"marker\":{\"symbol\":\"circle\"},\"mode\":\"markers+lines\",\"name\":\"GMF\",\"orientation\":\"v\",\"showlegend\":false,\"x\":[0,1,2,3,4,5,6,7,8,9],\"xaxis\":\"x5\",\"y\":[0.3985099337748344,0.4860927152317881,0.5367549668874172,0.5496688741721855,0.5587748344370861,0.5604304635761589,0.5579470198675497,0.5655629139072847,0.5645695364238411,0.5554635761589404],\"yaxis\":\"y5\",\"type\":\"scatter\"},{\"hovertemplate\":\"model=GMF<br>factor=32<br>metric=NDCG@10<br>epoch=%{x}<br>value=%{y}<extra></extra>\",\"legendgroup\":\"GMF\",\"line\":{\"color\":\"#636efa\",\"dash\":\"solid\"},\"marker\":{\"symbol\":\"circle\"},\"mode\":\"markers+lines\",\"name\":\"GMF\",\"orientation\":\"v\",\"showlegend\":false,\"x\":[0,1,2,3,4,5,6,7,8,9],\"xaxis\":\"x6\",\"y\":[0.1816791104069431,0.2212422348084435,0.2424375940507743,0.2487502489170374,0.2531732350678249,0.2543009744911652,0.2546352765243024,0.2555513566401899,0.2567691465697423,0.252614842297541],\"yaxis\":\"y6\",\"type\":\"scatter\"},{\"hovertemplate\":\"model=GMF<br>factor=64<br>metric=train_loss<br>epoch=%{x}<br>value=%{y}<extra></extra>\",\"legendgroup\":\"GMF\",\"line\":{\"color\":\"#636efa\",\"dash\":\"solid\"},\"marker\":{\"symbol\":\"circle\"},\"mode\":\"markers+lines\",\"name\":\"GMF\",\"orientation\":\"v\",\"showlegend\":false,\"x\":[0,1,2,3,4,5,6,7,8,9],\"xaxis\":\"x\",\"y\":[0.4834936022758483,0.3379566729068756,0.2740306675434112,0.2478731423616409,0.2206241279840469,0.2173552632331848,0.2024711906909942,0.1993275105953216,0.1787185698747634,0.1809017479419708],\"yaxis\":\"y\",\"type\":\"scatter\"},{\"hovertemplate\":\"model=GMF<br>factor=64<br>metric=HR@10<br>epoch=%{x}<br>value=%{y}<extra></extra>\",\"legendgroup\":\"GMF\",\"line\":{\"color\":\"#636efa\",\"dash\":\"solid\"},\"marker\":{\"symbol\":\"circle\"},\"mode\":\"markers+lines\",\"name\":\"GMF\",\"orientation\":\"v\",\"showlegend\":false,\"x\":[0,1,2,3,4,5,6,7,8,9],\"xaxis\":\"x2\",\"y\":[0.3920529801324503,0.4822847682119205,0.5324503311258278,0.544205298013245,0.5357615894039736,0.5314569536423841,0.5220198675496689,0.5241721854304636,0.5248344370860927,0.5140728476821192],\"yaxis\":\"y2\",\"type\":\"scatter\"},{\"hovertemplate\":\"model=GMF<br>factor=64<br>metric=NDCG@10<br>epoch=%{x}<br>value=%{y}<extra></extra>\",\"legendgroup\":\"GMF\",\"line\":{\"color\":\"#636efa\",\"dash\":\"solid\"},\"marker\":{\"symbol\":\"circle\"},\"mode\":\"markers+lines\",\"name\":\"GMF\",\"orientation\":\"v\",\"showlegend\":false,\"x\":[0,1,2,3,4,5,6,7,8,9],\"xaxis\":\"x3\",\"y\":[0.1783500420488734,0.2185977918038965,0.2421943440818047,0.2462146638714761,0.2435278413246793,0.2420776031522969,0.2380856670754529,0.2372702423716466,0.2368530638836438,0.2343044437474341],\"yaxis\":\"y3\",\"type\":\"scatter\"},{\"hovertemplate\":\"model=MLP<br>factor=8<br>metric=train_loss<br>epoch=%{x}<br>value=%{y}<extra></extra>\",\"legendgroup\":\"MLP\",\"line\":{\"color\":\"#EF553B\",\"dash\":\"solid\"},\"marker\":{\"symbol\":\"circle\"},\"mode\":\"markers+lines\",\"name\":\"MLP\",\"orientation\":\"v\",\"showlegend\":true,\"x\":[0,1,2,3,4,5,6,7,8,9],\"xaxis\":\"x10\",\"y\":[0.4265936553478241,0.3415951430797577,0.3126116514205933,0.3116776943206787,0.3045767068862915,0.290574699640274,0.2874446034431457,0.2843281686305999,0.2857973754405975,0.2666053414344788],\"yaxis\":\"y10\",\"type\":\"scatter\"},{\"hovertemplate\":\"model=MLP<br>factor=8<br>metric=HR@10<br>epoch=%{x}<br>value=%{y}<extra></extra>\",\"legendgroup\":\"MLP\",\"line\":{\"color\":\"#EF553B\",\"dash\":\"solid\"},\"marker\":{\"symbol\":\"circle\"},\"mode\":\"markers+lines\",\"name\":\"MLP\",\"orientation\":\"v\",\"showlegend\":false,\"x\":[0,1,2,3,4,5,6,7,8,9],\"xaxis\":\"x11\",\"y\":[0.4008278145695364,0.4359271523178808,0.4624172185430463,0.4867549668874172,0.4943708609271523,0.506953642384106,0.5183774834437086,0.5220198675496689,0.5248344370860927,0.5228476821192053],\"yaxis\":\"y11\",\"type\":\"scatter\"},{\"hovertemplate\":\"model=MLP<br>factor=8<br>metric=NDCG@10<br>epoch=%{x}<br>value=%{y}<extra></extra>\",\"legendgroup\":\"MLP\",\"line\":{\"color\":\"#EF553B\",\"dash\":\"solid\"},\"marker\":{\"symbol\":\"circle\"},\"mode\":\"markers+lines\",\"name\":\"MLP\",\"orientation\":\"v\",\"showlegend\":false,\"x\":[0,1,2,3,4,5,6,7,8,9],\"xaxis\":\"x12\",\"y\":[0.1803406005400244,0.1984057877572226,0.2099927776564837,0.221101435131821,0.2241073771164581,0.2294719163241053,0.2356241918494409,0.2366909654101442,0.2372115294609444,0.2362464516900364],\"yaxis\":\"y12\",\"type\":\"scatter\"},{\"hovertemplate\":\"model=MLP<br>factor=16<br>metric=train_loss<br>epoch=%{x}<br>value=%{y}<extra></extra>\",\"legendgroup\":\"MLP\",\"line\":{\"color\":\"#EF553B\",\"dash\":\"solid\"},\"marker\":{\"symbol\":\"circle\"},\"mode\":\"markers+lines\",\"name\":\"MLP\",\"orientation\":\"v\",\"showlegend\":false,\"x\":[0,1,2,3,4,5,6,7,8,9],\"xaxis\":\"x7\",\"y\":[0.4461995840072632,0.3309032559394836,0.3060048758983612,0.2912390053272247,0.2915641844272613,0.2599974483251571,0.2759270370006561,0.2711188375949859,0.2638873130083084,0.254550951719284],\"yaxis\":\"y7\",\"type\":\"scatter\"},{\"hovertemplate\":\"model=MLP<br>factor=16<br>metric=HR@10<br>epoch=%{x}<br>value=%{y}<extra></extra>\",\"legendgroup\":\"MLP\",\"line\":{\"color\":\"#EF553B\",\"dash\":\"solid\"},\"marker\":{\"symbol\":\"circle\"},\"mode\":\"markers+lines\",\"name\":\"MLP\",\"orientation\":\"v\",\"showlegend\":false,\"x\":[0,1,2,3,4,5,6,7,8,9],\"xaxis\":\"x8\",\"y\":[0.41341059602649,0.4740066225165563,0.4877483443708609,0.5109271523178808,0.526158940397351,0.5395695364238411,0.5385761589403973,0.5379139072847682,0.5528145695364238,0.5513245033112583],\"yaxis\":\"y8\",\"type\":\"scatter\"},{\"hovertemplate\":\"model=MLP<br>factor=16<br>metric=NDCG@10<br>epoch=%{x}<br>value=%{y}<extra></extra>\",\"legendgroup\":\"MLP\",\"line\":{\"color\":\"#EF553B\",\"dash\":\"solid\"},\"marker\":{\"symbol\":\"circle\"},\"mode\":\"markers+lines\",\"name\":\"MLP\",\"orientation\":\"v\",\"showlegend\":false,\"x\":[0,1,2,3,4,5,6,7,8,9],\"xaxis\":\"x9\",\"y\":[0.1884383900875511,0.2146785472353406,0.2214083770275968,0.2320283099982529,0.2410967950587765,0.2441593393856451,0.2449788006933583,0.2456046284951088,0.2511379726431885,0.2507500122213567],\"yaxis\":\"y9\",\"type\":\"scatter\"},{\"hovertemplate\":\"model=MLP<br>factor=32<br>metric=train_loss<br>epoch=%{x}<br>value=%{y}<extra></extra>\",\"legendgroup\":\"MLP\",\"line\":{\"color\":\"#EF553B\",\"dash\":\"solid\"},\"marker\":{\"symbol\":\"circle\"},\"mode\":\"markers+lines\",\"name\":\"MLP\",\"orientation\":\"v\",\"showlegend\":false,\"x\":[0,1,2,3,4,5,6,7,8,9],\"xaxis\":\"x4\",\"y\":[0.4403597831726074,0.3193129062652587,0.2886474251747131,0.2756953001022338,0.2575537413358688,0.2442568153142929,0.2474703520536422,0.2379551500082016,0.2334332823753357,0.2413114309310913],\"yaxis\":\"y4\",\"type\":\"scatter\"},{\"hovertemplate\":\"model=MLP<br>factor=32<br>metric=HR@10<br>epoch=%{x}<br>value=%{y}<extra></extra>\",\"legendgroup\":\"MLP\",\"line\":{\"color\":\"#EF553B\",\"dash\":\"solid\"},\"marker\":{\"symbol\":\"circle\"},\"mode\":\"markers+lines\",\"name\":\"MLP\",\"orientation\":\"v\",\"showlegend\":false,\"x\":[0,1,2,3,4,5,6,7,8,9],\"xaxis\":\"x5\",\"y\":[0.4248344370860927,0.4933774834437086,0.5163907284768212,0.5309602649006623,0.5493377483443709,0.5503311258278145,0.5581125827814569,0.5624172185430464,0.5625827814569536,0.5605960264900662],\"yaxis\":\"y5\",\"type\":\"scatter\"},{\"hovertemplate\":\"model=MLP<br>factor=32<br>metric=NDCG@10<br>epoch=%{x}<br>value=%{y}<extra></extra>\",\"legendgroup\":\"MLP\",\"line\":{\"color\":\"#EF553B\",\"dash\":\"solid\"},\"marker\":{\"symbol\":\"circle\"},\"mode\":\"markers+lines\",\"name\":\"MLP\",\"orientation\":\"v\",\"showlegend\":false,\"x\":[0,1,2,3,4,5,6,7,8,9],\"xaxis\":\"x6\",\"y\":[0.1929287281106625,0.2232621559114359,0.2353752725611536,0.2416030559703135,0.2503978642491342,0.2499052428952737,0.2535043776634851,0.2565667996195526,0.2545941743057417,0.2554777818195483],\"yaxis\":\"y6\",\"type\":\"scatter\"},{\"hovertemplate\":\"model=MLP<br>factor=64<br>metric=train_loss<br>epoch=%{x}<br>value=%{y}<extra></extra>\",\"legendgroup\":\"MLP\",\"line\":{\"color\":\"#EF553B\",\"dash\":\"solid\"},\"marker\":{\"symbol\":\"circle\"},\"mode\":\"markers+lines\",\"name\":\"MLP\",\"orientation\":\"v\",\"showlegend\":false,\"x\":[0,1,2,3,4,5,6,7,8,9],\"xaxis\":\"x\",\"y\":[0.4343725383281708,0.318283325433731,0.2712705254554748,0.2620134592056274,0.2699322015047073,0.2525140404701232,0.2514545559883118,0.2374528586864471,0.2398244887590408,0.2229109853506088],\"yaxis\":\"y\",\"type\":\"scatter\"},{\"hovertemplate\":\"model=MLP<br>factor=64<br>metric=HR@10<br>epoch=%{x}<br>value=%{y}<extra></extra>\",\"legendgroup\":\"MLP\",\"line\":{\"color\":\"#EF553B\",\"dash\":\"solid\"},\"marker\":{\"symbol\":\"circle\"},\"mode\":\"markers+lines\",\"name\":\"MLP\",\"orientation\":\"v\",\"showlegend\":false,\"x\":[0,1,2,3,4,5,6,7,8,9],\"xaxis\":\"x2\",\"y\":[0.4276490066225165,0.4963576158940397,0.5256622516556292,0.5485099337748345,0.5473509933774835,0.5564569536423841,0.5552980132450331,0.5604304635761589,0.5620860927152318,0.5561258278145695],\"yaxis\":\"y2\",\"type\":\"scatter\"},{\"hovertemplate\":\"model=MLP<br>factor=64<br>metric=NDCG@10<br>epoch=%{x}<br>value=%{y}<extra></extra>\",\"legendgroup\":\"MLP\",\"line\":{\"color\":\"#EF553B\",\"dash\":\"solid\"},\"marker\":{\"symbol\":\"circle\"},\"mode\":\"markers+lines\",\"name\":\"MLP\",\"orientation\":\"v\",\"showlegend\":false,\"x\":[0,1,2,3,4,5,6,7,8,9],\"xaxis\":\"x3\",\"y\":[0.1946884973492736,0.2256700291035032,0.2388637380704107,0.2507036959757909,0.2494677858080321,0.2551880512392299,0.2550949504467036,0.2556882050090928,0.2558316587259801,0.2525060357313954],\"yaxis\":\"y3\",\"type\":\"scatter\"},{\"hovertemplate\":\"model=NMF<br>factor=8<br>metric=train_loss<br>epoch=%{x}<br>value=%{y}<extra></extra>\",\"legendgroup\":\"NMF\",\"line\":{\"color\":\"#00cc96\",\"dash\":\"solid\"},\"marker\":{\"symbol\":\"circle\"},\"mode\":\"markers+lines\",\"name\":\"NMF\",\"orientation\":\"v\",\"showlegend\":true,\"x\":[0,1,2,3,4,5,6,7,8,9],\"xaxis\":\"x10\",\"y\":[0.5703805983066559,0.2864813029766083,0.2918081700801849,0.2767150461673736,0.2610102117061615,0.2640983343124389,0.2671863257884979,0.2715533554553985,0.2556821703910827,0.260638079047203],\"yaxis\":\"y10\",\"type\":\"scatter\"},{\"hovertemplate\":\"model=NMF<br>factor=8<br>metric=HR@10<br>epoch=%{x}<br>value=%{y}<extra></extra>\",\"legendgroup\":\"NMF\",\"line\":{\"color\":\"#00cc96\",\"dash\":\"solid\"},\"marker\":{\"symbol\":\"circle\"},\"mode\":\"markers+lines\",\"name\":\"NMF\",\"orientation\":\"v\",\"showlegend\":false,\"x\":[0,1,2,3,4,5,6,7,8,9],\"xaxis\":\"x11\",\"y\":[0.5347682119205298,0.5399006622516557,0.541887417218543,0.5437086092715232,0.5438741721854304,0.5428807947019868,0.5435430463576159,0.5447019867549668,0.5447019867549668,0.5443708609271524],\"yaxis\":\"y11\",\"type\":\"scatter\"},{\"hovertemplate\":\"model=NMF<br>factor=8<br>metric=NDCG@10<br>epoch=%{x}<br>value=%{y}<extra></extra>\",\"legendgroup\":\"NMF\",\"line\":{\"color\":\"#00cc96\",\"dash\":\"solid\"},\"marker\":{\"symbol\":\"circle\"},\"mode\":\"markers+lines\",\"name\":\"NMF\",\"orientation\":\"v\",\"showlegend\":false,\"x\":[0,1,2,3,4,5,6,7,8,9],\"xaxis\":\"x12\",\"y\":[0.2433705427408847,0.2445225213925161,0.2448275825958068,0.245542193948046,0.2460662843019113,0.2459043036716598,0.2463572114406945,0.2467918480681648,0.2467278214567022,0.2465485849578103],\"yaxis\":\"y12\",\"type\":\"scatter\"},{\"hovertemplate\":\"model=NMF<br>factor=16<br>metric=train_loss<br>epoch=%{x}<br>value=%{y}<extra></extra>\",\"legendgroup\":\"NMF\",\"line\":{\"color\":\"#00cc96\",\"dash\":\"solid\"},\"marker\":{\"symbol\":\"circle\"},\"mode\":\"markers+lines\",\"name\":\"NMF\",\"orientation\":\"v\",\"showlegend\":false,\"x\":[0,1,2,3,4,5,6,7,8,9],\"xaxis\":\"x7\",\"y\":[0.3586647093296051,0.2683428078889847,0.2470472246408462,0.2354183882474899,0.2359836906194687,0.2492142885923385,0.2478415429592132,0.223852789402008,0.2330310076475143,0.2343538433313369],\"yaxis\":\"y7\",\"type\":\"scatter\"},{\"hovertemplate\":\"model=NMF<br>factor=16<br>metric=HR@10<br>epoch=%{x}<br>value=%{y}<extra></extra>\",\"legendgroup\":\"NMF\",\"line\":{\"color\":\"#00cc96\",\"dash\":\"solid\"},\"marker\":{\"symbol\":\"circle\"},\"mode\":\"markers+lines\",\"name\":\"NMF\",\"orientation\":\"v\",\"showlegend\":false,\"x\":[0,1,2,3,4,5,6,7,8,9],\"xaxis\":\"x8\",\"y\":[0.5649006622516556,0.572682119205298,0.5754966887417219,0.5743377483443709,0.572682119205298,0.5731788079470199,0.5748344370860927,0.5745033112582781,0.575,0.5748344370860927],\"yaxis\":\"y8\",\"type\":\"scatter\"},{\"hovertemplate\":\"model=NMF<br>factor=16<br>metric=NDCG@10<br>epoch=%{x}<br>value=%{y}<extra></extra>\",\"legendgroup\":\"NMF\",\"line\":{\"color\":\"#00cc96\",\"dash\":\"solid\"},\"marker\":{\"symbol\":\"circle\"},\"mode\":\"markers+lines\",\"name\":\"NMF\",\"orientation\":\"v\",\"showlegend\":false,\"x\":[0,1,2,3,4,5,6,7,8,9],\"xaxis\":\"x9\",\"y\":[0.2571726793281483,0.2589627680031689,0.2613973387987601,0.2605404556567646,0.2599619546686597,0.2605088628611847,0.2609204991615005,0.2610276385394975,0.261283402536314,0.2612429369021463],\"yaxis\":\"y9\",\"type\":\"scatter\"},{\"hovertemplate\":\"model=NMF<br>factor=32<br>metric=train_loss<br>epoch=%{x}<br>value=%{y}<extra></extra>\",\"legendgroup\":\"NMF\",\"line\":{\"color\":\"#00cc96\",\"dash\":\"solid\"},\"marker\":{\"symbol\":\"circle\"},\"mode\":\"markers+lines\",\"name\":\"NMF\",\"orientation\":\"v\",\"showlegend\":false,\"x\":[0,1,2,3,4,5,6,7,8,9],\"xaxis\":\"x4\",\"y\":[0.5605095744132995,0.3399487257003784,0.312230509519577,0.2898418188095092,0.2751885533332824,0.2691332221031189,0.2584995746612549,0.2507996469736099,0.2544452279806137,0.2467529535293579],\"yaxis\":\"y4\",\"type\":\"scatter\"},{\"hovertemplate\":\"model=NMF<br>factor=32<br>metric=HR@10<br>epoch=%{x}<br>value=%{y}<extra></extra>\",\"legendgroup\":\"NMF\",\"line\":{\"color\":\"#00cc96\",\"dash\":\"solid\"},\"marker\":{\"symbol\":\"circle\"},\"mode\":\"markers+lines\",\"name\":\"NMF\",\"orientation\":\"v\",\"showlegend\":false,\"x\":[0,1,2,3,4,5,6,7,8,9],\"xaxis\":\"x5\",\"y\":[0.4705298013245033,0.5076158940397351,0.5281456953642384,0.5445364238410596,0.553476821192053,0.5596026490066225,0.5644039735099338,0.5665562913907285,0.5658940397350993,0.5683774834437086],\"yaxis\":\"y5\",\"type\":\"scatter\"},{\"hovertemplate\":\"model=NMF<br>factor=32<br>metric=NDCG@10<br>epoch=%{x}<br>value=%{y}<extra></extra>\",\"legendgroup\":\"NMF\",\"line\":{\"color\":\"#00cc96\",\"dash\":\"solid\"},\"marker\":{\"symbol\":\"circle\"},\"mode\":\"markers+lines\",\"name\":\"NMF\",\"orientation\":\"v\",\"showlegend\":false,\"x\":[0,1,2,3,4,5,6,7,8,9],\"xaxis\":\"x6\",\"y\":[0.2141121932391537,0.2318117605834939,0.2411503376298375,0.2487193527775255,0.2523200497272556,0.2556640482163598,0.2580545563948739,0.2592018656891751,0.258953212099893,0.259678471915324],\"yaxis\":\"y6\",\"type\":\"scatter\"},{\"hovertemplate\":\"model=NMF<br>factor=64<br>metric=train_loss<br>epoch=%{x}<br>value=%{y}<extra></extra>\",\"legendgroup\":\"NMF\",\"line\":{\"color\":\"#00cc96\",\"dash\":\"solid\"},\"marker\":{\"symbol\":\"circle\"},\"mode\":\"markers+lines\",\"name\":\"NMF\",\"orientation\":\"v\",\"showlegend\":false,\"x\":[0,1,2,3,4,5,6,7,8,9],\"xaxis\":\"x\",\"y\":[0.4609533965587616,0.3149750709533691,0.2621302247047424,0.2482368975877761,0.2288075923919677,0.2197385102510452,0.2260803520679473,0.2093373358249664,0.197948807477951,0.1964175760746002],\"yaxis\":\"y\",\"type\":\"scatter\"},{\"hovertemplate\":\"model=NMF<br>factor=64<br>metric=HR@10<br>epoch=%{x}<br>value=%{y}<extra></extra>\",\"legendgroup\":\"NMF\",\"line\":{\"color\":\"#00cc96\",\"dash\":\"solid\"},\"marker\":{\"symbol\":\"circle\"},\"mode\":\"markers+lines\",\"name\":\"NMF\",\"orientation\":\"v\",\"showlegend\":false,\"x\":[0,1,2,3,4,5,6,7,8,9],\"xaxis\":\"x2\",\"y\":[0.4516556291390728,0.5036423841059603,0.5216887417218543,0.5337748344370861,0.5392384105960265,0.5377483443708609,0.5385761589403973,0.5392384105960265,0.5395695364238411,0.5384105960264901],\"yaxis\":\"y2\",\"type\":\"scatter\"},{\"hovertemplate\":\"model=NMF<br>factor=64<br>metric=NDCG@10<br>epoch=%{x}<br>value=%{y}<extra></extra>\",\"legendgroup\":\"NMF\",\"line\":{\"color\":\"#00cc96\",\"dash\":\"solid\"},\"marker\":{\"symbol\":\"circle\"},\"mode\":\"markers+lines\",\"name\":\"NMF\",\"orientation\":\"v\",\"showlegend\":false,\"x\":[0,1,2,3,4,5,6,7,8,9],\"xaxis\":\"x3\",\"y\":[0.2078066755989385,0.2300166967062564,0.2381568469252144,0.2433835894715846,0.2463041987023425,0.2452831525179898,0.2464711684836832,0.2465424198201157,0.2456217007147673,0.2441556843150351],\"yaxis\":\"y3\",\"type\":\"scatter\"}],                        {\"template\":{\"data\":{\"bar\":[{\"error_x\":{\"color\":\"#2a3f5f\"},\"error_y\":{\"color\":\"#2a3f5f\"},\"marker\":{\"line\":{\"color\":\"#E5ECF6\",\"width\":0.5},\"pattern\":{\"fillmode\":\"overlay\",\"size\":10,\"solidity\":0.2}},\"type\":\"bar\"}],\"barpolar\":[{\"marker\":{\"line\":{\"color\":\"#E5ECF6\",\"width\":0.5},\"pattern\":{\"fillmode\":\"overlay\",\"size\":10,\"solidity\":0.2}},\"type\":\"barpolar\"}],\"carpet\":[{\"aaxis\":{\"endlinecolor\":\"#2a3f5f\",\"gridcolor\":\"white\",\"linecolor\":\"white\",\"minorgridcolor\":\"white\",\"startlinecolor\":\"#2a3f5f\"},\"baxis\":{\"endlinecolor\":\"#2a3f5f\",\"gridcolor\":\"white\",\"linecolor\":\"white\",\"minorgridcolor\":\"white\",\"startlinecolor\":\"#2a3f5f\"},\"type\":\"carpet\"}],\"choropleth\":[{\"colorbar\":{\"outlinewidth\":0,\"ticks\":\"\"},\"type\":\"choropleth\"}],\"contour\":[{\"colorbar\":{\"outlinewidth\":0,\"ticks\":\"\"},\"colorscale\":[[0.0,\"#0d0887\"],[0.1111111111111111,\"#46039f\"],[0.2222222222222222,\"#7201a8\"],[0.3333333333333333,\"#9c179e\"],[0.4444444444444444,\"#bd3786\"],[0.5555555555555556,\"#d8576b\"],[0.6666666666666666,\"#ed7953\"],[0.7777777777777778,\"#fb9f3a\"],[0.8888888888888888,\"#fdca26\"],[1.0,\"#f0f921\"]],\"type\":\"contour\"}],\"contourcarpet\":[{\"colorbar\":{\"outlinewidth\":0,\"ticks\":\"\"},\"type\":\"contourcarpet\"}],\"heatmap\":[{\"colorbar\":{\"outlinewidth\":0,\"ticks\":\"\"},\"colorscale\":[[0.0,\"#0d0887\"],[0.1111111111111111,\"#46039f\"],[0.2222222222222222,\"#7201a8\"],[0.3333333333333333,\"#9c179e\"],[0.4444444444444444,\"#bd3786\"],[0.5555555555555556,\"#d8576b\"],[0.6666666666666666,\"#ed7953\"],[0.7777777777777778,\"#fb9f3a\"],[0.8888888888888888,\"#fdca26\"],[1.0,\"#f0f921\"]],\"type\":\"heatmap\"}],\"heatmapgl\":[{\"colorbar\":{\"outlinewidth\":0,\"ticks\":\"\"},\"colorscale\":[[0.0,\"#0d0887\"],[0.1111111111111111,\"#46039f\"],[0.2222222222222222,\"#7201a8\"],[0.3333333333333333,\"#9c179e\"],[0.4444444444444444,\"#bd3786\"],[0.5555555555555556,\"#d8576b\"],[0.6666666666666666,\"#ed7953\"],[0.7777777777777778,\"#fb9f3a\"],[0.8888888888888888,\"#fdca26\"],[1.0,\"#f0f921\"]],\"type\":\"heatmapgl\"}],\"histogram\":[{\"marker\":{\"pattern\":{\"fillmode\":\"overlay\",\"size\":10,\"solidity\":0.2}},\"type\":\"histogram\"}],\"histogram2d\":[{\"colorbar\":{\"outlinewidth\":0,\"ticks\":\"\"},\"colorscale\":[[0.0,\"#0d0887\"],[0.1111111111111111,\"#46039f\"],[0.2222222222222222,\"#7201a8\"],[0.3333333333333333,\"#9c179e\"],[0.4444444444444444,\"#bd3786\"],[0.5555555555555556,\"#d8576b\"],[0.6666666666666666,\"#ed7953\"],[0.7777777777777778,\"#fb9f3a\"],[0.8888888888888888,\"#fdca26\"],[1.0,\"#f0f921\"]],\"type\":\"histogram2d\"}],\"histogram2dcontour\":[{\"colorbar\":{\"outlinewidth\":0,\"ticks\":\"\"},\"colorscale\":[[0.0,\"#0d0887\"],[0.1111111111111111,\"#46039f\"],[0.2222222222222222,\"#7201a8\"],[0.3333333333333333,\"#9c179e\"],[0.4444444444444444,\"#bd3786\"],[0.5555555555555556,\"#d8576b\"],[0.6666666666666666,\"#ed7953\"],[0.7777777777777778,\"#fb9f3a\"],[0.8888888888888888,\"#fdca26\"],[1.0,\"#f0f921\"]],\"type\":\"histogram2dcontour\"}],\"mesh3d\":[{\"colorbar\":{\"outlinewidth\":0,\"ticks\":\"\"},\"type\":\"mesh3d\"}],\"parcoords\":[{\"line\":{\"colorbar\":{\"outlinewidth\":0,\"ticks\":\"\"}},\"type\":\"parcoords\"}],\"pie\":[{\"automargin\":true,\"type\":\"pie\"}],\"scatter\":[{\"marker\":{\"colorbar\":{\"outlinewidth\":0,\"ticks\":\"\"}},\"type\":\"scatter\"}],\"scatter3d\":[{\"line\":{\"colorbar\":{\"outlinewidth\":0,\"ticks\":\"\"}},\"marker\":{\"colorbar\":{\"outlinewidth\":0,\"ticks\":\"\"}},\"type\":\"scatter3d\"}],\"scattercarpet\":[{\"marker\":{\"colorbar\":{\"outlinewidth\":0,\"ticks\":\"\"}},\"type\":\"scattercarpet\"}],\"scattergeo\":[{\"marker\":{\"colorbar\":{\"outlinewidth\":0,\"ticks\":\"\"}},\"type\":\"scattergeo\"}],\"scattergl\":[{\"marker\":{\"colorbar\":{\"outlinewidth\":0,\"ticks\":\"\"}},\"type\":\"scattergl\"}],\"scattermapbox\":[{\"marker\":{\"colorbar\":{\"outlinewidth\":0,\"ticks\":\"\"}},\"type\":\"scattermapbox\"}],\"scatterpolar\":[{\"marker\":{\"colorbar\":{\"outlinewidth\":0,\"ticks\":\"\"}},\"type\":\"scatterpolar\"}],\"scatterpolargl\":[{\"marker\":{\"colorbar\":{\"outlinewidth\":0,\"ticks\":\"\"}},\"type\":\"scatterpolargl\"}],\"scatterternary\":[{\"marker\":{\"colorbar\":{\"outlinewidth\":0,\"ticks\":\"\"}},\"type\":\"scatterternary\"}],\"surface\":[{\"colorbar\":{\"outlinewidth\":0,\"ticks\":\"\"},\"colorscale\":[[0.0,\"#0d0887\"],[0.1111111111111111,\"#46039f\"],[0.2222222222222222,\"#7201a8\"],[0.3333333333333333,\"#9c179e\"],[0.4444444444444444,\"#bd3786\"],[0.5555555555555556,\"#d8576b\"],[0.6666666666666666,\"#ed7953\"],[0.7777777777777778,\"#fb9f3a\"],[0.8888888888888888,\"#fdca26\"],[1.0,\"#f0f921\"]],\"type\":\"surface\"}],\"table\":[{\"cells\":{\"fill\":{\"color\":\"#EBF0F8\"},\"line\":{\"color\":\"white\"}},\"header\":{\"fill\":{\"color\":\"#C8D4E3\"},\"line\":{\"color\":\"white\"}},\"type\":\"table\"}]},\"layout\":{\"annotationdefaults\":{\"arrowcolor\":\"#2a3f5f\",\"arrowhead\":0,\"arrowwidth\":1},\"autotypenumbers\":\"strict\",\"coloraxis\":{\"colorbar\":{\"outlinewidth\":0,\"ticks\":\"\"}},\"colorscale\":{\"diverging\":[[0,\"#8e0152\"],[0.1,\"#c51b7d\"],[0.2,\"#de77ae\"],[0.3,\"#f1b6da\"],[0.4,\"#fde0ef\"],[0.5,\"#f7f7f7\"],[0.6,\"#e6f5d0\"],[0.7,\"#b8e186\"],[0.8,\"#7fbc41\"],[0.9,\"#4d9221\"],[1,\"#276419\"]],\"sequential\":[[0.0,\"#0d0887\"],[0.1111111111111111,\"#46039f\"],[0.2222222222222222,\"#7201a8\"],[0.3333333333333333,\"#9c179e\"],[0.4444444444444444,\"#bd3786\"],[0.5555555555555556,\"#d8576b\"],[0.6666666666666666,\"#ed7953\"],[0.7777777777777778,\"#fb9f3a\"],[0.8888888888888888,\"#fdca26\"],[1.0,\"#f0f921\"]],\"sequentialminus\":[[0.0,\"#0d0887\"],[0.1111111111111111,\"#46039f\"],[0.2222222222222222,\"#7201a8\"],[0.3333333333333333,\"#9c179e\"],[0.4444444444444444,\"#bd3786\"],[0.5555555555555556,\"#d8576b\"],[0.6666666666666666,\"#ed7953\"],[0.7777777777777778,\"#fb9f3a\"],[0.8888888888888888,\"#fdca26\"],[1.0,\"#f0f921\"]]},\"colorway\":[\"#636efa\",\"#EF553B\",\"#00cc96\",\"#ab63fa\",\"#FFA15A\",\"#19d3f3\",\"#FF6692\",\"#B6E880\",\"#FF97FF\",\"#FECB52\"],\"font\":{\"color\":\"#2a3f5f\"},\"geo\":{\"bgcolor\":\"white\",\"lakecolor\":\"white\",\"landcolor\":\"#E5ECF6\",\"showlakes\":true,\"showland\":true,\"subunitcolor\":\"white\"},\"hoverlabel\":{\"align\":\"left\"},\"hovermode\":\"closest\",\"mapbox\":{\"style\":\"light\"},\"paper_bgcolor\":\"white\",\"plot_bgcolor\":\"#E5ECF6\",\"polar\":{\"angularaxis\":{\"gridcolor\":\"white\",\"linecolor\":\"white\",\"ticks\":\"\"},\"bgcolor\":\"#E5ECF6\",\"radialaxis\":{\"gridcolor\":\"white\",\"linecolor\":\"white\",\"ticks\":\"\"}},\"scene\":{\"xaxis\":{\"backgroundcolor\":\"#E5ECF6\",\"gridcolor\":\"white\",\"gridwidth\":2,\"linecolor\":\"white\",\"showbackground\":true,\"ticks\":\"\",\"zerolinecolor\":\"white\"},\"yaxis\":{\"backgroundcolor\":\"#E5ECF6\",\"gridcolor\":\"white\",\"gridwidth\":2,\"linecolor\":\"white\",\"showbackground\":true,\"ticks\":\"\",\"zerolinecolor\":\"white\"},\"zaxis\":{\"backgroundcolor\":\"#E5ECF6\",\"gridcolor\":\"white\",\"gridwidth\":2,\"linecolor\":\"white\",\"showbackground\":true,\"ticks\":\"\",\"zerolinecolor\":\"white\"}},\"shapedefaults\":{\"line\":{\"color\":\"#2a3f5f\"}},\"ternary\":{\"aaxis\":{\"gridcolor\":\"white\",\"linecolor\":\"white\",\"ticks\":\"\"},\"baxis\":{\"gridcolor\":\"white\",\"linecolor\":\"white\",\"ticks\":\"\"},\"bgcolor\":\"#E5ECF6\",\"caxis\":{\"gridcolor\":\"white\",\"linecolor\":\"white\",\"ticks\":\"\"}},\"title\":{\"x\":0.05},\"xaxis\":{\"automargin\":true,\"gridcolor\":\"white\",\"linecolor\":\"white\",\"ticks\":\"\",\"title\":{\"standoff\":15},\"zerolinecolor\":\"white\",\"zerolinewidth\":2},\"yaxis\":{\"automargin\":true,\"gridcolor\":\"white\",\"linecolor\":\"white\",\"ticks\":\"\",\"title\":{\"standoff\":15},\"zerolinecolor\":\"white\",\"zerolinewidth\":2}}},\"xaxis\":{\"anchor\":\"y\",\"domain\":[0.0,0.3133333333333333],\"title\":{\"text\":\"epoch\"}},\"yaxis\":{\"anchor\":\"x\",\"domain\":[0.0,0.2275],\"title\":{\"text\":\"value\"},\"type\":\"log\"},\"xaxis2\":{\"anchor\":\"y2\",\"domain\":[0.3333333333333333,0.6466666666666666],\"matches\":\"x\",\"title\":{\"text\":\"epoch\"}},\"yaxis2\":{\"anchor\":\"x2\",\"domain\":[0.0,0.2275],\"showticklabels\":false,\"type\":\"log\"},\"xaxis3\":{\"anchor\":\"y3\",\"domain\":[0.6666666666666666,0.98],\"matches\":\"x\",\"title\":{\"text\":\"epoch\"}},\"yaxis3\":{\"anchor\":\"x3\",\"domain\":[0.0,0.2275],\"showticklabels\":false,\"type\":\"log\"},\"xaxis4\":{\"anchor\":\"y4\",\"domain\":[0.0,0.3133333333333333],\"matches\":\"x\",\"showticklabels\":false},\"yaxis4\":{\"anchor\":\"x4\",\"domain\":[0.2575,0.485],\"title\":{\"text\":\"value\"},\"type\":\"log\"},\"xaxis5\":{\"anchor\":\"y5\",\"domain\":[0.3333333333333333,0.6466666666666666],\"matches\":\"x\",\"showticklabels\":false},\"yaxis5\":{\"anchor\":\"x5\",\"domain\":[0.2575,0.485],\"showticklabels\":false,\"type\":\"log\"},\"xaxis6\":{\"anchor\":\"y6\",\"domain\":[0.6666666666666666,0.98],\"matches\":\"x\",\"showticklabels\":false},\"yaxis6\":{\"anchor\":\"x6\",\"domain\":[0.2575,0.485],\"showticklabels\":false,\"type\":\"log\"},\"xaxis7\":{\"anchor\":\"y7\",\"domain\":[0.0,0.3133333333333333],\"matches\":\"x\",\"showticklabels\":false},\"yaxis7\":{\"anchor\":\"x7\",\"domain\":[0.515,0.7425],\"title\":{\"text\":\"value\"},\"type\":\"log\"},\"xaxis8\":{\"anchor\":\"y8\",\"domain\":[0.3333333333333333,0.6466666666666666],\"matches\":\"x\",\"showticklabels\":false},\"yaxis8\":{\"anchor\":\"x8\",\"domain\":[0.515,0.7425],\"showticklabels\":false,\"type\":\"log\"},\"xaxis9\":{\"anchor\":\"y9\",\"domain\":[0.6666666666666666,0.98],\"matches\":\"x\",\"showticklabels\":false},\"yaxis9\":{\"anchor\":\"x9\",\"domain\":[0.515,0.7425],\"showticklabels\":false,\"type\":\"log\"},\"xaxis10\":{\"anchor\":\"y10\",\"domain\":[0.0,0.3133333333333333],\"matches\":\"x\",\"showticklabels\":false},\"yaxis10\":{\"anchor\":\"x10\",\"domain\":[0.7725,1.0],\"title\":{\"text\":\"value\"},\"type\":\"log\"},\"xaxis11\":{\"anchor\":\"y11\",\"domain\":[0.3333333333333333,0.6466666666666666],\"matches\":\"x\",\"showticklabels\":false},\"yaxis11\":{\"anchor\":\"x11\",\"domain\":[0.7725,1.0],\"showticklabels\":false,\"type\":\"log\"},\"xaxis12\":{\"anchor\":\"y12\",\"domain\":[0.6666666666666666,0.98],\"matches\":\"x\",\"showticklabels\":false},\"yaxis12\":{\"anchor\":\"x12\",\"domain\":[0.7725,1.0],\"showticklabels\":false,\"type\":\"log\"},\"annotations\":[{\"font\":{},\"showarrow\":false,\"text\":\"metric=train_loss\",\"x\":0.15666666666666665,\"xanchor\":\"center\",\"xref\":\"paper\",\"y\":1.0,\"yanchor\":\"bottom\",\"yref\":\"paper\"},{\"font\":{},\"showarrow\":false,\"text\":\"metric=HR@10\",\"x\":0.49,\"xanchor\":\"center\",\"xref\":\"paper\",\"y\":1.0,\"yanchor\":\"bottom\",\"yref\":\"paper\"},{\"font\":{},\"showarrow\":false,\"text\":\"metric=NDCG@10\",\"x\":0.8233333333333333,\"xanchor\":\"center\",\"xref\":\"paper\",\"y\":1.0,\"yanchor\":\"bottom\",\"yref\":\"paper\"},{\"font\":{},\"showarrow\":false,\"text\":\"factor=64\",\"textangle\":90,\"x\":0.98,\"xanchor\":\"left\",\"xref\":\"paper\",\"y\":0.11375,\"yanchor\":\"middle\",\"yref\":\"paper\"},{\"font\":{},\"showarrow\":false,\"text\":\"factor=32\",\"textangle\":90,\"x\":0.98,\"xanchor\":\"left\",\"xref\":\"paper\",\"y\":0.37124999999999997,\"yanchor\":\"middle\",\"yref\":\"paper\"},{\"font\":{},\"showarrow\":false,\"text\":\"factor=16\",\"textangle\":90,\"x\":0.98,\"xanchor\":\"left\",\"xref\":\"paper\",\"y\":0.62875,\"yanchor\":\"middle\",\"yref\":\"paper\"},{\"font\":{},\"showarrow\":false,\"text\":\"factor=8\",\"textangle\":90,\"x\":0.98,\"xanchor\":\"left\",\"xref\":\"paper\",\"y\":0.88625,\"yanchor\":\"middle\",\"yref\":\"paper\"}],\"legend\":{\"title\":{\"text\":\"model\"},\"tracegroupgap\":0},\"margin\":{\"t\":60},\"height\":800},                        {\"responsive\": true}                    ).then(function(){\n",
       "                            \n",
       "var gd = document.getElementById('0392bcf5-9562-45ea-9ada-41275de596fa');\n",
       "var x = new MutationObserver(function (mutations, observer) {{\n",
       "        var display = window.getComputedStyle(gd).display;\n",
       "        if (!display || display === 'none') {{\n",
       "            console.log([gd, 'removed!']);\n",
       "            Plotly.purge(gd);\n",
       "            observer.disconnect();\n",
       "        }}\n",
       "}});\n",
       "\n",
       "// Listen for the removal of the full notebook cells\n",
       "var notebookContainer = gd.closest('#notebook-container');\n",
       "if (notebookContainer) {{\n",
       "    x.observe(notebookContainer, {childList: true});\n",
       "}}\n",
       "\n",
       "// Listen for the clearing of the current output cell\n",
       "var outputEl = gd.closest('.output');\n",
       "if (outputEl) {{\n",
       "    x.observe(outputEl, {childList: true});\n",
       "}}\n",
       "\n",
       "                        })                };                });            </script>        </div>"
      ]
     },
     "metadata": {},
     "output_type": "display_data"
    }
   ],
   "source": [
    "# Epoch-wise Loss, HR@10, NDCG@10 for each model\n",
    "\n",
    "fig=px.line(plot_melt,x=\"epoch\",y=\"value\",color=\"model\",facet_col=\"metric\",facet_row=\"factor\",height=800)\n",
    "fig.update_yaxes(matches=None)\n",
    "fig.update_yaxes(type=\"log\")\n",
    "fig.update_traces(mode='markers+lines')\n",
    "fig.write_image(\"plot1.png\")\n",
    "fig.show()\n"
   ]
  },
  {
   "cell_type": "code",
   "execution_count": 35,
   "id": "f7f31a10",
   "metadata": {},
   "outputs": [
    {
     "data": {
      "application/pdf": "[encoded data removed]",
      "text/html": [
       "<div>                            <div id=\"36a1ca2a-7ed1-437b-a5b6-3516b619b1a1\" class=\"plotly-graph-div\" style=\"height:525px; width:100%;\"></div>            <script type=\"text/javascript\">                require([\"plotly\"], function(Plotly) {                    window.PLOTLYENV=window.PLOTLYENV || {};                                    if (document.getElementById(\"36a1ca2a-7ed1-437b-a5b6-3516b619b1a1\")) {                    Plotly.newPlot(                        \"36a1ca2a-7ed1-437b-a5b6-3516b619b1a1\",                        [{\"hovertemplate\":\"model=GMF<br>metric=HR@10<br>factor=%{x}<br>value=%{y}<extra></extra>\",\"legendgroup\":\"GMF\",\"line\":{\"color\":\"#636efa\",\"dash\":\"solid\"},\"marker\":{\"symbol\":\"circle\"},\"mode\":\"markers+lines\",\"name\":\"GMF\",\"orientation\":\"v\",\"showlegend\":true,\"x\":[8,16,32,64],\"xaxis\":\"x\",\"y\":[0.5443708609271524,0.5736754966887417,0.5554635761589404,0.5140728476821192],\"yaxis\":\"y\",\"type\":\"scatter\"},{\"hovertemplate\":\"model=GMF<br>metric=NDCG@10<br>factor=%{x}<br>value=%{y}<extra></extra>\",\"legendgroup\":\"GMF\",\"line\":{\"color\":\"#636efa\",\"dash\":\"solid\"},\"marker\":{\"symbol\":\"circle\"},\"mode\":\"markers+lines\",\"name\":\"GMF\",\"orientation\":\"v\",\"showlegend\":false,\"x\":[8,16,32,64],\"xaxis\":\"x2\",\"y\":[0.2457650982540388,0.261013896622416,0.252614842297541,0.2343044437474341],\"yaxis\":\"y2\",\"type\":\"scatter\"},{\"hovertemplate\":\"model=MLP<br>metric=HR@10<br>factor=%{x}<br>value=%{y}<extra></extra>\",\"legendgroup\":\"MLP\",\"line\":{\"color\":\"#EF553B\",\"dash\":\"solid\"},\"marker\":{\"symbol\":\"circle\"},\"mode\":\"markers+lines\",\"name\":\"MLP\",\"orientation\":\"v\",\"showlegend\":true,\"x\":[8,16,32,64],\"xaxis\":\"x\",\"y\":[0.5228476821192053,0.5513245033112583,0.5605960264900662,0.5561258278145695],\"yaxis\":\"y\",\"type\":\"scatter\"},{\"hovertemplate\":\"model=MLP<br>metric=NDCG@10<br>factor=%{x}<br>value=%{y}<extra></extra>\",\"legendgroup\":\"MLP\",\"line\":{\"color\":\"#EF553B\",\"dash\":\"solid\"},\"marker\":{\"symbol\":\"circle\"},\"mode\":\"markers+lines\",\"name\":\"MLP\",\"orientation\":\"v\",\"showlegend\":false,\"x\":[8,16,32,64],\"xaxis\":\"x2\",\"y\":[0.2362464516900364,0.2507500122213567,0.2554777818195483,0.2525060357313954],\"yaxis\":\"y2\",\"type\":\"scatter\"},{\"hovertemplate\":\"model=NMF<br>metric=HR@10<br>factor=%{x}<br>value=%{y}<extra></extra>\",\"legendgroup\":\"NMF\",\"line\":{\"color\":\"#00cc96\",\"dash\":\"solid\"},\"marker\":{\"symbol\":\"circle\"},\"mode\":\"markers+lines\",\"name\":\"NMF\",\"orientation\":\"v\",\"showlegend\":true,\"x\":[8,16,32,64],\"xaxis\":\"x\",\"y\":[0.5443708609271524,0.5748344370860927,0.5683774834437086,0.5384105960264901],\"yaxis\":\"y\",\"type\":\"scatter\"},{\"hovertemplate\":\"model=NMF<br>metric=NDCG@10<br>factor=%{x}<br>value=%{y}<extra></extra>\",\"legendgroup\":\"NMF\",\"line\":{\"color\":\"#00cc96\",\"dash\":\"solid\"},\"marker\":{\"symbol\":\"circle\"},\"mode\":\"markers+lines\",\"name\":\"NMF\",\"orientation\":\"v\",\"showlegend\":false,\"x\":[8,16,32,64],\"xaxis\":\"x2\",\"y\":[0.2465485849578103,0.2612429369021463,0.259678471915324,0.2441556843150351],\"yaxis\":\"y2\",\"type\":\"scatter\"}],                        {\"template\":{\"data\":{\"bar\":[{\"error_x\":{\"color\":\"#2a3f5f\"},\"error_y\":{\"color\":\"#2a3f5f\"},\"marker\":{\"line\":{\"color\":\"#E5ECF6\",\"width\":0.5},\"pattern\":{\"fillmode\":\"overlay\",\"size\":10,\"solidity\":0.2}},\"type\":\"bar\"}],\"barpolar\":[{\"marker\":{\"line\":{\"color\":\"#E5ECF6\",\"width\":0.5},\"pattern\":{\"fillmode\":\"overlay\",\"size\":10,\"solidity\":0.2}},\"type\":\"barpolar\"}],\"carpet\":[{\"aaxis\":{\"endlinecolor\":\"#2a3f5f\",\"gridcolor\":\"white\",\"linecolor\":\"white\",\"minorgridcolor\":\"white\",\"startlinecolor\":\"#2a3f5f\"},\"baxis\":{\"endlinecolor\":\"#2a3f5f\",\"gridcolor\":\"white\",\"linecolor\":\"white\",\"minorgridcolor\":\"white\",\"startlinecolor\":\"#2a3f5f\"},\"type\":\"carpet\"}],\"choropleth\":[{\"colorbar\":{\"outlinewidth\":0,\"ticks\":\"\"},\"type\":\"choropleth\"}],\"contour\":[{\"colorbar\":{\"outlinewidth\":0,\"ticks\":\"\"},\"colorscale\":[[0.0,\"#0d0887\"],[0.1111111111111111,\"#46039f\"],[0.2222222222222222,\"#7201a8\"],[0.3333333333333333,\"#9c179e\"],[0.4444444444444444,\"#bd3786\"],[0.5555555555555556,\"#d8576b\"],[0.6666666666666666,\"#ed7953\"],[0.7777777777777778,\"#fb9f3a\"],[0.8888888888888888,\"#fdca26\"],[1.0,\"#f0f921\"]],\"type\":\"contour\"}],\"contourcarpet\":[{\"colorbar\":{\"outlinewidth\":0,\"ticks\":\"\"},\"type\":\"contourcarpet\"}],\"heatmap\":[{\"colorbar\":{\"outlinewidth\":0,\"ticks\":\"\"},\"colorscale\":[[0.0,\"#0d0887\"],[0.1111111111111111,\"#46039f\"],[0.2222222222222222,\"#7201a8\"],[0.3333333333333333,\"#9c179e\"],[0.4444444444444444,\"#bd3786\"],[0.5555555555555556,\"#d8576b\"],[0.6666666666666666,\"#ed7953\"],[0.7777777777777778,\"#fb9f3a\"],[0.8888888888888888,\"#fdca26\"],[1.0,\"#f0f921\"]],\"type\":\"heatmap\"}],\"heatmapgl\":[{\"colorbar\":{\"outlinewidth\":0,\"ticks\":\"\"},\"colorscale\":[[0.0,\"#0d0887\"],[0.1111111111111111,\"#46039f\"],[0.2222222222222222,\"#7201a8\"],[0.3333333333333333,\"#9c179e\"],[0.4444444444444444,\"#bd3786\"],[0.5555555555555556,\"#d8576b\"],[0.6666666666666666,\"#ed7953\"],[0.7777777777777778,\"#fb9f3a\"],[0.8888888888888888,\"#fdca26\"],[1.0,\"#f0f921\"]],\"type\":\"heatmapgl\"}],\"histogram\":[{\"marker\":{\"pattern\":{\"fillmode\":\"overlay\",\"size\":10,\"solidity\":0.2}},\"type\":\"histogram\"}],\"histogram2d\":[{\"colorbar\":{\"outlinewidth\":0,\"ticks\":\"\"},\"colorscale\":[[0.0,\"#0d0887\"],[0.1111111111111111,\"#46039f\"],[0.2222222222222222,\"#7201a8\"],[0.3333333333333333,\"#9c179e\"],[0.4444444444444444,\"#bd3786\"],[0.5555555555555556,\"#d8576b\"],[0.6666666666666666,\"#ed7953\"],[0.7777777777777778,\"#fb9f3a\"],[0.8888888888888888,\"#fdca26\"],[1.0,\"#f0f921\"]],\"type\":\"histogram2d\"}],\"histogram2dcontour\":[{\"colorbar\":{\"outlinewidth\":0,\"ticks\":\"\"},\"colorscale\":[[0.0,\"#0d0887\"],[0.1111111111111111,\"#46039f\"],[0.2222222222222222,\"#7201a8\"],[0.3333333333333333,\"#9c179e\"],[0.4444444444444444,\"#bd3786\"],[0.5555555555555556,\"#d8576b\"],[0.6666666666666666,\"#ed7953\"],[0.7777777777777778,\"#fb9f3a\"],[0.8888888888888888,\"#fdca26\"],[1.0,\"#f0f921\"]],\"type\":\"histogram2dcontour\"}],\"mesh3d\":[{\"colorbar\":{\"outlinewidth\":0,\"ticks\":\"\"},\"type\":\"mesh3d\"}],\"parcoords\":[{\"line\":{\"colorbar\":{\"outlinewidth\":0,\"ticks\":\"\"}},\"type\":\"parcoords\"}],\"pie\":[{\"automargin\":true,\"type\":\"pie\"}],\"scatter\":[{\"marker\":{\"colorbar\":{\"outlinewidth\":0,\"ticks\":\"\"}},\"type\":\"scatter\"}],\"scatter3d\":[{\"line\":{\"colorbar\":{\"outlinewidth\":0,\"ticks\":\"\"}},\"marker\":{\"colorbar\":{\"outlinewidth\":0,\"ticks\":\"\"}},\"type\":\"scatter3d\"}],\"scattercarpet\":[{\"marker\":{\"colorbar\":{\"outlinewidth\":0,\"ticks\":\"\"}},\"type\":\"scattercarpet\"}],\"scattergeo\":[{\"marker\":{\"colorbar\":{\"outlinewidth\":0,\"ticks\":\"\"}},\"type\":\"scattergeo\"}],\"scattergl\":[{\"marker\":{\"colorbar\":{\"outlinewidth\":0,\"ticks\":\"\"}},\"type\":\"scattergl\"}],\"scattermapbox\":[{\"marker\":{\"colorbar\":{\"outlinewidth\":0,\"ticks\":\"\"}},\"type\":\"scattermapbox\"}],\"scatterpolar\":[{\"marker\":{\"colorbar\":{\"outlinewidth\":0,\"ticks\":\"\"}},\"type\":\"scatterpolar\"}],\"scatterpolargl\":[{\"marker\":{\"colorbar\":{\"outlinewidth\":0,\"ticks\":\"\"}},\"type\":\"scatterpolargl\"}],\"scatterternary\":[{\"marker\":{\"colorbar\":{\"outlinewidth\":0,\"ticks\":\"\"}},\"type\":\"scatterternary\"}],\"surface\":[{\"colorbar\":{\"outlinewidth\":0,\"ticks\":\"\"},\"colorscale\":[[0.0,\"#0d0887\"],[0.1111111111111111,\"#46039f\"],[0.2222222222222222,\"#7201a8\"],[0.3333333333333333,\"#9c179e\"],[0.4444444444444444,\"#bd3786\"],[0.5555555555555556,\"#d8576b\"],[0.6666666666666666,\"#ed7953\"],[0.7777777777777778,\"#fb9f3a\"],[0.8888888888888888,\"#fdca26\"],[1.0,\"#f0f921\"]],\"type\":\"surface\"}],\"table\":[{\"cells\":{\"fill\":{\"color\":\"#EBF0F8\"},\"line\":{\"color\":\"white\"}},\"header\":{\"fill\":{\"color\":\"#C8D4E3\"},\"line\":{\"color\":\"white\"}},\"type\":\"table\"}]},\"layout\":{\"annotationdefaults\":{\"arrowcolor\":\"#2a3f5f\",\"arrowhead\":0,\"arrowwidth\":1},\"autotypenumbers\":\"strict\",\"coloraxis\":{\"colorbar\":{\"outlinewidth\":0,\"ticks\":\"\"}},\"colorscale\":{\"diverging\":[[0,\"#8e0152\"],[0.1,\"#c51b7d\"],[0.2,\"#de77ae\"],[0.3,\"#f1b6da\"],[0.4,\"#fde0ef\"],[0.5,\"#f7f7f7\"],[0.6,\"#e6f5d0\"],[0.7,\"#b8e186\"],[0.8,\"#7fbc41\"],[0.9,\"#4d9221\"],[1,\"#276419\"]],\"sequential\":[[0.0,\"#0d0887\"],[0.1111111111111111,\"#46039f\"],[0.2222222222222222,\"#7201a8\"],[0.3333333333333333,\"#9c179e\"],[0.4444444444444444,\"#bd3786\"],[0.5555555555555556,\"#d8576b\"],[0.6666666666666666,\"#ed7953\"],[0.7777777777777778,\"#fb9f3a\"],[0.8888888888888888,\"#fdca26\"],[1.0,\"#f0f921\"]],\"sequentialminus\":[[0.0,\"#0d0887\"],[0.1111111111111111,\"#46039f\"],[0.2222222222222222,\"#7201a8\"],[0.3333333333333333,\"#9c179e\"],[0.4444444444444444,\"#bd3786\"],[0.5555555555555556,\"#d8576b\"],[0.6666666666666666,\"#ed7953\"],[0.7777777777777778,\"#fb9f3a\"],[0.8888888888888888,\"#fdca26\"],[1.0,\"#f0f921\"]]},\"colorway\":[\"#636efa\",\"#EF553B\",\"#00cc96\",\"#ab63fa\",\"#FFA15A\",\"#19d3f3\",\"#FF6692\",\"#B6E880\",\"#FF97FF\",\"#FECB52\"],\"font\":{\"color\":\"#2a3f5f\"},\"geo\":{\"bgcolor\":\"white\",\"lakecolor\":\"white\",\"landcolor\":\"#E5ECF6\",\"showlakes\":true,\"showland\":true,\"subunitcolor\":\"white\"},\"hoverlabel\":{\"align\":\"left\"},\"hovermode\":\"closest\",\"mapbox\":{\"style\":\"light\"},\"paper_bgcolor\":\"white\",\"plot_bgcolor\":\"#E5ECF6\",\"polar\":{\"angularaxis\":{\"gridcolor\":\"white\",\"linecolor\":\"white\",\"ticks\":\"\"},\"bgcolor\":\"#E5ECF6\",\"radialaxis\":{\"gridcolor\":\"white\",\"linecolor\":\"white\",\"ticks\":\"\"}},\"scene\":{\"xaxis\":{\"backgroundcolor\":\"#E5ECF6\",\"gridcolor\":\"white\",\"gridwidth\":2,\"linecolor\":\"white\",\"showbackground\":true,\"ticks\":\"\",\"zerolinecolor\":\"white\"},\"yaxis\":{\"backgroundcolor\":\"#E5ECF6\",\"gridcolor\":\"white\",\"gridwidth\":2,\"linecolor\":\"white\",\"showbackground\":true,\"ticks\":\"\",\"zerolinecolor\":\"white\"},\"zaxis\":{\"backgroundcolor\":\"#E5ECF6\",\"gridcolor\":\"white\",\"gridwidth\":2,\"linecolor\":\"white\",\"showbackground\":true,\"ticks\":\"\",\"zerolinecolor\":\"white\"}},\"shapedefaults\":{\"line\":{\"color\":\"#2a3f5f\"}},\"ternary\":{\"aaxis\":{\"gridcolor\":\"white\",\"linecolor\":\"white\",\"ticks\":\"\"},\"baxis\":{\"gridcolor\":\"white\",\"linecolor\":\"white\",\"ticks\":\"\"},\"bgcolor\":\"#E5ECF6\",\"caxis\":{\"gridcolor\":\"white\",\"linecolor\":\"white\",\"ticks\":\"\"}},\"title\":{\"x\":0.05},\"xaxis\":{\"automargin\":true,\"gridcolor\":\"white\",\"linecolor\":\"white\",\"ticks\":\"\",\"title\":{\"standoff\":15},\"zerolinecolor\":\"white\",\"zerolinewidth\":2},\"yaxis\":{\"automargin\":true,\"gridcolor\":\"white\",\"linecolor\":\"white\",\"ticks\":\"\",\"title\":{\"standoff\":15},\"zerolinecolor\":\"white\",\"zerolinewidth\":2}}},\"xaxis\":{\"anchor\":\"y\",\"domain\":[0.0,0.49],\"title\":{\"text\":\"factor\"}},\"yaxis\":{\"anchor\":\"x\",\"domain\":[0.0,1.0],\"title\":{\"text\":\"value\"},\"type\":\"log\"},\"xaxis2\":{\"anchor\":\"y2\",\"domain\":[0.51,1.0],\"matches\":\"x\",\"title\":{\"text\":\"factor\"}},\"yaxis2\":{\"anchor\":\"x2\",\"domain\":[0.0,1.0],\"showticklabels\":false,\"type\":\"log\"},\"annotations\":[{\"font\":{},\"showarrow\":false,\"text\":\"metric=HR@10\",\"x\":0.245,\"xanchor\":\"center\",\"xref\":\"paper\",\"y\":1.0,\"yanchor\":\"bottom\",\"yref\":\"paper\"},{\"font\":{},\"showarrow\":false,\"text\":\"metric=NDCG@10\",\"x\":0.755,\"xanchor\":\"center\",\"xref\":\"paper\",\"y\":1.0,\"yanchor\":\"bottom\",\"yref\":\"paper\"}],\"legend\":{\"title\":{\"text\":\"model\"},\"tracegroupgap\":0},\"margin\":{\"t\":60}},                        {\"responsive\": true}                    ).then(function(){\n",
       "                            \n",
       "var gd = document.getElementById('36a1ca2a-7ed1-437b-a5b6-3516b619b1a1');\n",
       "var x = new MutationObserver(function (mutations, observer) {{\n",
       "        var display = window.getComputedStyle(gd).display;\n",
       "        if (!display || display === 'none') {{\n",
       "            console.log([gd, 'removed!']);\n",
       "            Plotly.purge(gd);\n",
       "            observer.disconnect();\n",
       "        }}\n",
       "}});\n",
       "\n",
       "// Listen for the removal of the full notebook cells\n",
       "var notebookContainer = gd.closest('#notebook-container');\n",
       "if (notebookContainer) {{\n",
       "    x.observe(notebookContainer, {childList: true});\n",
       "}}\n",
       "\n",
       "// Listen for the clearing of the current output cell\n",
       "var outputEl = gd.closest('.output');\n",
       "if (outputEl) {{\n",
       "    x.observe(outputEl, {childList: true});\n",
       "}}\n",
       "\n",
       "                        })                };                });            </script>        </div>"
      ]
     },
     "metadata": {},
     "output_type": "display_data"
    }
   ],
   "source": [
    "# Factor-wise Metric evaluatio for each model\n",
    "\n",
    "fig=px.line(plot_melt[(plot_melt['epoch']==9) & ( (plot_melt['metric']==\"HR@10\") | (plot_melt['metric']==\"NDCG@10\")  )],x=\"factor\",y=\"value\",color=\"model\",facet_col=\"metric\")\n",
    "fig.update_yaxes(matches=None)\n",
    "fig.update_yaxes(type=\"log\")\n",
    "fig.update_traces(mode='markers+lines')\n",
    "fig.write_image(\"plot2.png\")\n",
    "fig.show()\n",
    "\n"
   ]
  },
  {
   "cell_type": "code",
   "execution_count": null,
   "id": "d1d0adba",
   "metadata": {},
   "outputs": [],
   "source": []
  }
 ],
 "metadata": {
  "kernelspec": {
   "display_name": "Python 3 (ipykernel)",
   "language": "python",
   "name": "python3"
  },
  "language_info": {
   "codemirror_mode": {
    "name": "ipython",
    "version": 3
   },
   "file_extension": ".py",
   "mimetype": "text/x-python",
   "name": "python",
   "nbconvert_exporter": "python",
   "pygments_lexer": "ipython3",
   "version": "3.7.9"
  }
 },
 "nbformat": 4,
 "nbformat_minor": 5
}
